{
 "cells": [
  {
   "cell_type": "markdown",
   "metadata": {},
   "source": [
    "# Project W4: Kaggle-Human Freedom"
   ]
  },
  {
   "cell_type": "markdown",
   "metadata": {},
   "source": [
    "*Insert intro here*"
   ]
  },
  {
   "cell_type": "markdown",
   "metadata": {},
   "source": [
    "## Imports"
   ]
  },
  {
   "cell_type": "code",
   "execution_count": 1,
   "metadata": {},
   "outputs": [],
   "source": [
    "import pandas as pd\n",
    "import numpy as np"
   ]
  },
  {
   "cell_type": "markdown",
   "metadata": {},
   "source": [
    "## Preparing data"
   ]
  },
  {
   "cell_type": "code",
   "execution_count": 2,
   "metadata": {},
   "outputs": [],
   "source": [
    "data = pd.read_csv('.\\datasets\\hfi_cc_2018.csv')\n",
    "data_2 = pd.read_csv('.\\datasets\\dataset2.csv')"
   ]
  },
  {
   "cell_type": "markdown",
   "metadata": {},
   "source": [
    "In this section we filter our original datasets. The first dataset had a lot of indicators (79), so we needed to decide which ones we would use. We tackled this issue by finding out the percentage of missing values for each indicator, from there on we decided to drop indicators which had more than 10% missing values, leaving us with ... indicators. We didn't have full data on all countries, since some were added to the Human Freedom Index later on. In order to get a more accurate results, we found countries with missing data and removed them. While filtering the second dataset, it turned out that data before 2010 wasn't sufficient, so we removed years 2008 and 2009 from our first dataset."
   ]
  },
  {
   "cell_type": "markdown",
   "metadata": {},
   "source": [
    "### First dataset  -insert name here-"
   ]
  },
  {
   "cell_type": "code",
   "execution_count": 3,
   "metadata": {},
   "outputs": [],
   "source": [
    "pd.set_option('display.max_rows', None)\n",
    "\n",
    "data.isnull().mean() * 100 # Mitu % andmetest on puudu\n",
    "\n",
    "data = data[[\n",
    "'year',\n",
    "'countries',\n",
    "'region',\n",
    "'pf_rol',\n",
    "'pf_ss_homicide',\n",
    "'pf_ss_disappearances',\n",
    "'pf_ss_women_missing',\n",
    "'pf_ss_women_inheritance',\n",
    "'pf_ss_women',\n",
    "'pf_ss',\n",
    "'pf_movement',\n",
    "'pf_religion',\n",
    "'pf_expression',\n",
    "'pf_identity_parental',\n",
    "'pf_identity_sex',\n",
    "'pf_score',\n",
    "'pf_rank',\n",
    "'ef_government_tax_income',\n",
    "'ef_government_tax',\n",
    "'ef_government',\n",
    "'ef_legal_military',\n",
    "'ef_legal_enforcement',\n",
    "'ef_legal_police',\n",
    "'ef_legal',\n",
    "'ef_money_growth',\n",
    "'ef_money_inflation',\n",
    "'ef_money',\n",
    "'ef_trade_tariffs_mean',\n",
    "'ef_trade_regulatory',\n",
    "'ef_trade_black',\n",
    "'ef_trade_movement_capital',\n",
    "'ef_trade_movement_visit',\n",
    "'ef_trade_movement',\n",
    "'ef_trade',\n",
    "'hf_score',\n",
    "'hf_rank',]]"
   ]
  },
  {
   "cell_type": "markdown",
   "metadata": {},
   "source": [
    "#### We have picked out the following inidicators:"
   ]
  },
  {
   "cell_type": "markdown",
   "metadata": {},
   "source": [
    "| Indicator name | Explanation |\n",
    "|------|------|\n",
    "| Year | - |\n",
    "| Countries | Name of country |\n",
    "| Region | - |\n",
    "| pf_rol | Rule of law |\n",
    "| pf_ss_homicide | Homicide |\n",
    "| pf_ss_disappearances | Disappearances, conflict, and terrorism |\n",
    "| pf_ss_women_missing | Missing women |\n",
    "| pf_ss_women_inheritance | Inheritance |\n",
    "| pf_ss_women | Women's security |\n",
    "| pf_ss | Security and safety |\n",
    "| pf_movement | Freedom of movement |\n",
    "| pf_religion | Religious freedom |\n",
    "| pf_expression | Freedom of expression |\n",
    "| pf_identity_parental | Parental rights |\n",
    "| pf_identity_sex | Same-sex ralitionships |\n",
    "| pf_score | Personal Freedom (score) |\n",
    "| pf_rank | Personal Freedom (rank) |\n",
    "| ef_government_tax_income | Top marginal income tax rate |\n",
    "| ef_government_tax | Top marginal tax rate |\n",
    "| ef_government | Size of government |\n",
    "| ef_legal_military | Military interference in rule of law and politics |\n",
    "| ef_legal_enforcement | Legal enforcement of contracts |\n",
    "| ef_legal_police | Reliability of police |\n",
    "| ef_legal | Legal system and property rights |\n",
    "| ef_money_growth | Money growth |\n",
    "| ef_money_inflation | Inflation: most recent year |\n",
    "| ef_money | Sound money |\n",
    "| ef_trade_tariffs_mean | Mean tariff rate |\n",
    "| ef_trade_regulatory | Regulatory trade barriers |\n",
    "| ef_trade_black | Black-market exchange rates |\n",
    "| ef_trade_movement_capital | Capital controls |\n",
    "| ef_trade_movement_visit | Freedom of foreigners to visit |\n",
    "| ef_trade_movement | Controls of the movement of capital and people |\n",
    "| ef_trade | Freedom to trade internationally |\n",
    "| hf_score | Human Freedom (score) |\n",
    "| hf_rank | Human Freedom (rank) |"
   ]
  },
  {
   "cell_type": "code",
   "execution_count": 4,
   "metadata": {
    "scrolled": false
   },
   "outputs": [],
   "source": [
    "eemaldatavad_riigid = set(data.loc[(data[\"pf_rank\"].isnull()) & (data[\"year\"] == 2010)][\"countries\"].tolist()) #Valime välja riigid millel puudub varasem info\n",
    "\n",
    "eemaldatavad_aastad = [2008, 2009]\n",
    "\n",
    "for riik in eemaldatavad_riigid:\n",
    "    data = data[~data[\"countries\"].isin(eemaldatavad_riigid)] #Eemaldame riigid\n",
    "\n",
    "for aasta in eemaldatavad_aastad:\n",
    "    data = data[~data[\"year\"].isin(eemaldatavad_aastad)] #Eemaldame aastad mille kohta meil on vähem infot\n",
    "\n",
    "olemasolevad_riigid = set(data[\"countries\"].tolist())\n"
   ]
  },
  {
   "cell_type": "markdown",
   "metadata": {},
   "source": [
    "#### We removed the following countries from our data:"
   ]
  },
  {
   "cell_type": "code",
   "execution_count": 5,
   "metadata": {},
   "outputs": [
    {
     "name": "stdout",
     "output_type": "stream",
     "text": [
      "{'Bhutan', 'Iraq', 'Guinea', 'Liberia', 'Sudan', 'Belarus', 'Laos', 'Libya', 'Seychelles'}\n"
     ]
    }
   ],
   "source": [
    "print(eemaldatavad_riigid)"
   ]
  },
  {
   "cell_type": "markdown",
   "metadata": {
    "scrolled": true
   },
   "source": [
    "#### Kood millega lisasin GDP teise datasetti\n",
    "data_2 = pd.read_csv('.\\datasets\\Dataset2.csv')\n",
    "gdp_data = pd.read_csv('.\\datasets\\gdp_data.csv')\n",
    "\n",
    "gdp_data = gdp_data.drop(columns=['Country Code', 'Series Name', 'Series Code', '1990 [YR1990]', '2000 [YR2000]', '2019 [YR2019]', '2017 [YR2017]', '2018 [YR2018]'])\n",
    "\n",
    "for year in range(2010, 2017, 1):\n",
    "    print(year)\n",
    "    gdp_data.rename(columns={(str(year) + \" [YR\" + str(year) + \"]\"): year}, inplace=True)\n",
    "\n",
    "gdp_data = gdp_data.melt(id_vars=[\"Country Name\"], \n",
    "        var_name=\"Year\", \n",
    "        value_name=\"GDP\")\n",
    "\n",
    "#gdp_data = gdp_data.loc[gdp_data['Country Name'] in data_2['Country Name']]\n",
    "\n",
    "gdp_data = gdp_data.reset_index()\n",
    "for i in range(len(gdp_data)):\n",
    "    if (gdp_data.loc[i]['Country Name']) not in set(data_2['Country Name']):\n",
    "        gdp_data = gdp_data.drop(i, axis=0)\n",
    "\n",
    "\n",
    "\n",
    "\n",
    "data_2 = data_2.merge(gdp_data, on=['Country Name', 'Year'], how='inner').drop(columns=['index'])\n",
    "#data_2.to_csv(\"dataset2.csv\", index=False)"
   ]
  },
  {
   "cell_type": "markdown",
   "metadata": {},
   "source": [
    "### Second dataset -insert name here-"
   ]
  },
  {
   "cell_type": "code",
   "execution_count": 6,
   "metadata": {},
   "outputs": [
    {
     "name": "stdout",
     "output_type": "stream",
     "text": [
      "<class 'pandas.core.frame.DataFrame'>\n",
      "Int64Index: 1072 entries, 1 to 2103\n",
      "Data columns (total 12 columns):\n",
      "Country Name                                           1072 non-null object\n",
      "Expense (% of GDP)                                     800 non-null float64\n",
      "Land area (sq. km)                                     1072 non-null float64\n",
      "Life expectancy at birth, total (years)                1072 non-null float64\n",
      "Military expenditure (% of GDP)                        1012 non-null float64\n",
      "Population density (people per sq. km of land area)    1072 non-null float64\n",
      "Population, female                                     1072 non-null float64\n",
      "Population, male                                       1072 non-null float64\n",
      "Population, total                                      1072 non-null float64\n",
      "Revenue, excluding grants (% of GDP)                   816 non-null float64\n",
      "Year                                                   1072 non-null int64\n",
      "GDP                                                    1072 non-null object\n",
      "dtypes: float64(9), int64(1), object(2)\n",
      "memory usage: 100.5+ KB\n"
     ]
    }
   ],
   "source": [
    "\n",
    "\n",
    "before_2016_data = data_2[data_2['Year'] == 2008]\n",
    "before_2016_data['Year'].value_counts()\n",
    "temp_data = before_2016_data[before_2016_data.isnull().sum(axis = 1) < 2]\n",
    "temp_data.isnull().sum(axis = 1)\n",
    "data_2 = data_2[data_2[\"Country Name\"].isin(olemasolevad_riigid)] #Valime samad riigid mida kasutame esimeses andmestikus\n",
    "data_2.isnull().sum(axis=1) #Puuduvad väärtused iga rea kohta\n",
    "data_2.info() #Puuduvad väärtused iga tulba kohta"
   ]
  },
  {
   "cell_type": "code",
   "execution_count": null,
   "metadata": {},
   "outputs": [],
   "source": []
  }
 ],
 "metadata": {
  "kernelspec": {
   "display_name": "Python 3",
   "language": "python",
   "name": "python3"
  },
  "language_info": {
   "codemirror_mode": {
    "name": "ipython",
    "version": 3
   },
   "file_extension": ".py",
   "mimetype": "text/x-python",
   "name": "python",
   "nbconvert_exporter": "python",
   "pygments_lexer": "ipython3",
   "version": "3.7.1"
  }
 },
 "nbformat": 4,
 "nbformat_minor": 2
}
