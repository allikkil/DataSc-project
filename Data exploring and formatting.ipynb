{
 "cells": [
  {
   "cell_type": "code",
   "execution_count": 1,
   "metadata": {},
   "outputs": [],
   "source": [
    "import pandas as pd\n",
    "import numpy as np"
   ]
  },
  {
   "cell_type": "code",
   "execution_count": 6,
   "metadata": {
    "scrolled": false
   },
   "outputs": [
    {
     "name": "stdout",
     "output_type": "stream",
     "text": [
      "0       0\n",
      "1       0\n",
      "2       0\n",
      "3       0\n",
      "4       0\n",
      "       ..\n",
      "1129    1\n",
      "1130    1\n",
      "1131    3\n",
      "1132    1\n",
      "1133    1\n",
      "Length: 1071, dtype: int64\n",
      "<class 'pandas.core.frame.DataFrame'>\n",
      "Int64Index: 1071 entries, 0 to 1133\n",
      "Data columns (total 17 columns):\n",
      "year                       1071 non-null int64\n",
      "countries                  1071 non-null object\n",
      "region                     1071 non-null object\n",
      "pf_rank                    1071 non-null float64\n",
      "pf_score                   1071 non-null float64\n",
      "pf_ss_homicide             1071 non-null float64\n",
      "pf_ss_disappearances       1071 non-null float64\n",
      "pf_movement                1071 non-null float64\n",
      "pf_religion_estop          893 non-null float64\n",
      "pf_association             893 non-null float64\n",
      "pf_expression_internet     893 non-null float64\n",
      "pf_identity_divorce        564 non-null float64\n",
      "ef_government_tax          1054 non-null float64\n",
      "ef_government              1071 non-null float64\n",
      "ef_money_currency          1071 non-null float64\n",
      "ef_trade_tariffs_mean      1068 non-null float64\n",
      "ef_trade_movement_visit    1064 non-null float64\n",
      "dtypes: float64(14), int64(1), object(2)\n",
      "memory usage: 142.2+ KB\n",
      "None\n"
     ]
    }
   ],
   "source": [
    "data = pd.read_csv('.\\datasets\\hfi_cc_2018.csv')\n",
    "data = data[[\n",
    "'year',\n",
    "'countries',\n",
    "'region',\n",
    "'pf_rank',\n",
    "'pf_score',\n",
    "#'pf_rol_civil',\n",
    "'pf_ss_homicide',\n",
    "'pf_ss_disappearances',\n",
    "'pf_movement',\n",
    "'pf_religion_estop',\n",
    "#'pf_association_political_establish',\n",
    "'pf_association',\n",
    "'pf_expression_internet',\n",
    "'pf_identity_divorce',\n",
    "'ef_government_tax',\n",
    "'ef_government',\n",
    "'ef_money_currency',\n",
    "'ef_trade_tariffs_mean',\n",
    "'ef_trade_movement_visit']]\n",
    "before_2016_data = data[data['year'] == 2016]\n",
    "before_2016_data['year'].value_counts()\n",
    "temp_data = before_2016_data[before_2016_data.isnull().sum(axis = 1) < 2]\n",
    "temp_data.isnull().sum(axis = 1)\n",
    "\n",
    "eemaldatavad_riigid = data.loc[(data[\"pf_rank\"].isnull()) & (data[\"year\"] == 2010)][\"countries\"].tolist() #Valime välja riigid millel puudub varasem info\n",
    "\n",
    "eemaldatavad_aastad = [2008, 2009]\n",
    "eemaldatavad_riigid = set(eemaldatavad_riigid) #Eemaldab kordused\n",
    "\n",
    "for riik in eemaldatavad_riigid:\n",
    "    data = data[~data[\"countries\"].isin(eemaldatavad_riigid)] #Eemaldame riigid\n",
    "\n",
    "for aasta in eemaldatavad_aastad:\n",
    "    data = data[~data[\"year\"].isin(eemaldatavad_aastad)] #Eemaldame aastad mille kohta meil on vähem infot\n",
    "\n",
    "olemasolevad_riigid = set(data[\"countries\"].tolist())\n",
    "\n",
    "data.isnull().sum(axis=1) #Puuduvad väärtused iga rea kohta\n",
    "data.info() #Puuduvad väärtused iga tulba kohta"
   ]
  },
  {
   "cell_type": "markdown",
   "metadata": {
    "scrolled": true
   },
   "source": [
    "#### Kood millega lisasin GDP teise datasetti\n",
    "data_2 = pd.read_csv('.\\datasets\\Dataset2.csv')\n",
    "gdp_data = pd.read_csv('.\\datasets\\gdp_data.csv')\n",
    "\n",
    "gdp_data = gdp_data.drop(columns=['Country Code', 'Series Name', 'Series Code', '1990 [YR1990]', '2000 [YR2000]', '2019 [YR2019]', '2017 [YR2017]', '2018 [YR2018]'])\n",
    "\n",
    "for year in range(2010, 2017, 1):\n",
    "    print(year)\n",
    "    gdp_data.rename(columns={(str(year) + \" [YR\" + str(year) + \"]\"): year}, inplace=True)\n",
    "\n",
    "gdp_data = gdp_data.melt(id_vars=[\"Country Name\"], \n",
    "        var_name=\"Year\", \n",
    "        value_name=\"GDP\")\n",
    "\n",
    "#gdp_data = gdp_data.loc[gdp_data['Country Name'] in data_2['Country Name']]\n",
    "\n",
    "gdp_data = gdp_data.reset_index()\n",
    "for i in range(len(gdp_data)):\n",
    "    if (gdp_data.loc[i]['Country Name']) not in set(data_2['Country Name']):\n",
    "        gdp_data = gdp_data.drop(i, axis=0)\n",
    "\n",
    "\n",
    "\n",
    "\n",
    "data_2 = data_2.merge(gdp_data, on=['Country Name', 'Year'], how='inner').drop(columns=['index'])\n",
    "#data_2.to_csv(\"dataset2.csv\", index=False)"
   ]
  },
  {
   "cell_type": "code",
   "execution_count": 5,
   "metadata": {},
   "outputs": [
    {
     "name": "stdout",
     "output_type": "stream",
     "text": [
      "<class 'pandas.core.frame.DataFrame'>\n",
      "Int64Index: 1072 entries, 1 to 2103\n",
      "Data columns (total 12 columns):\n",
      "Country Name                                           1072 non-null object\n",
      "Expense (% of GDP)                                     800 non-null float64\n",
      "Land area (sq. km)                                     1072 non-null float64\n",
      "Life expectancy at birth, total (years)                1072 non-null float64\n",
      "Military expenditure (% of GDP)                        1012 non-null float64\n",
      "Population density (people per sq. km of land area)    1072 non-null float64\n",
      "Population, female                                     1072 non-null float64\n",
      "Population, male                                       1072 non-null float64\n",
      "Population, total                                      1072 non-null float64\n",
      "Revenue, excluding grants (% of GDP)                   816 non-null float64\n",
      "Year                                                   1072 non-null int64\n",
      "GDP                                                    1072 non-null object\n",
      "dtypes: float64(9), int64(1), object(2)\n",
      "memory usage: 100.5+ KB\n"
     ]
    }
   ],
   "source": [
    "data_2 = pd.read_csv('.\\datasets\\dataset2.csv')\n",
    "\n",
    "before_2016_data = data_2[data_2['Year'] == 2008]\n",
    "before_2016_data['Year'].value_counts()\n",
    "temp_data = before_2016_data[before_2016_data.isnull().sum(axis = 1) < 2]\n",
    "temp_data.isnull().sum(axis = 1)\n",
    "data_2 = data_2[data_2[\"Country Name\"].isin(olemasolevad_riigid)] #Valime samad riigid mida kasutame esimeses andmestikus\n",
    "data_2.isnull().sum(axis=1) #Puuduvad väärtused iga rea kohta\n",
    "data_2.info() #Puuduvad väärtused iga tulba kohta"
   ]
  },
  {
   "cell_type": "code",
   "execution_count": null,
   "metadata": {},
   "outputs": [],
   "source": []
  }
 ],
 "metadata": {
  "kernelspec": {
   "display_name": "Python 3",
   "language": "python",
   "name": "python3"
  },
  "language_info": {
   "codemirror_mode": {
    "name": "ipython",
    "version": 3
   },
   "file_extension": ".py",
   "mimetype": "text/x-python",
   "name": "python",
   "nbconvert_exporter": "python",
   "pygments_lexer": "ipython3",
   "version": "3.7.1"
  }
 },
 "nbformat": 4,
 "nbformat_minor": 2
}
